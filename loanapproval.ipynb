{
 "cells": [
  {
   "cell_type": "markdown",
   "id": "61ec79c2-d4b0-4e1a-bda2-f8c53eea52d5",
   "metadata": {},
   "source": [
    "# loan Approval Prediction"
   ]
  },
  {
   "cell_type": "code",
   "execution_count": 2,
   "id": "df8a1689-49ba-4b1c-8377-34e8c22cb11e",
   "metadata": {},
   "outputs": [],
   "source": [
    "import pandas as pd\n",
    "loan=pd.read_csv('loan_data.csv')"
   ]
  },
  {
   "cell_type": "code",
   "execution_count": 3,
   "id": "a0e68b99-7529-4b41-a654-15f0254bdecc",
   "metadata": {},
   "outputs": [
    {
     "data": {
      "text/html": [
       "<div>\n",
       "<style scoped>\n",
       "    .dataframe tbody tr th:only-of-type {\n",
       "        vertical-align: middle;\n",
       "    }\n",
       "\n",
       "    .dataframe tbody tr th {\n",
       "        vertical-align: top;\n",
       "    }\n",
       "\n",
       "    .dataframe thead th {\n",
       "        text-align: right;\n",
       "    }\n",
       "</style>\n",
       "<table border=\"1\" class=\"dataframe\">\n",
       "  <thead>\n",
       "    <tr style=\"text-align: right;\">\n",
       "      <th></th>\n",
       "      <th>person_age</th>\n",
       "      <th>person_gender</th>\n",
       "      <th>person_education</th>\n",
       "      <th>person_income</th>\n",
       "      <th>person_emp_exp</th>\n",
       "      <th>person_home_ownership</th>\n",
       "      <th>loan_amnt</th>\n",
       "      <th>loan_intent</th>\n",
       "      <th>loan_int_rate</th>\n",
       "      <th>loan_percent_income</th>\n",
       "      <th>cb_person_cred_hist_length</th>\n",
       "      <th>credit_score</th>\n",
       "      <th>previous_loan_defaults_on_file</th>\n",
       "      <th>loan_status</th>\n",
       "    </tr>\n",
       "  </thead>\n",
       "  <tbody>\n",
       "    <tr>\n",
       "      <th>0</th>\n",
       "      <td>22</td>\n",
       "      <td>female</td>\n",
       "      <td>Master</td>\n",
       "      <td>71948</td>\n",
       "      <td>0</td>\n",
       "      <td>RENT</td>\n",
       "      <td>35000</td>\n",
       "      <td>PERSONAL</td>\n",
       "      <td>16.02</td>\n",
       "      <td>0.49</td>\n",
       "      <td>3</td>\n",
       "      <td>561</td>\n",
       "      <td>No</td>\n",
       "      <td>1</td>\n",
       "    </tr>\n",
       "    <tr>\n",
       "      <th>1</th>\n",
       "      <td>21</td>\n",
       "      <td>female</td>\n",
       "      <td>High School</td>\n",
       "      <td>12282</td>\n",
       "      <td>0</td>\n",
       "      <td>OWN</td>\n",
       "      <td>1000</td>\n",
       "      <td>EDUCATION</td>\n",
       "      <td>11.14</td>\n",
       "      <td>0.08</td>\n",
       "      <td>2</td>\n",
       "      <td>504</td>\n",
       "      <td>Yes</td>\n",
       "      <td>0</td>\n",
       "    </tr>\n",
       "    <tr>\n",
       "      <th>2</th>\n",
       "      <td>25</td>\n",
       "      <td>female</td>\n",
       "      <td>High School</td>\n",
       "      <td>12438</td>\n",
       "      <td>3</td>\n",
       "      <td>MORTGAGE</td>\n",
       "      <td>5500</td>\n",
       "      <td>MEDICAL</td>\n",
       "      <td>12.87</td>\n",
       "      <td>0.44</td>\n",
       "      <td>3</td>\n",
       "      <td>635</td>\n",
       "      <td>No</td>\n",
       "      <td>1</td>\n",
       "    </tr>\n",
       "    <tr>\n",
       "      <th>3</th>\n",
       "      <td>23</td>\n",
       "      <td>female</td>\n",
       "      <td>Bachelor</td>\n",
       "      <td>79753</td>\n",
       "      <td>0</td>\n",
       "      <td>RENT</td>\n",
       "      <td>35000</td>\n",
       "      <td>MEDICAL</td>\n",
       "      <td>15.23</td>\n",
       "      <td>0.44</td>\n",
       "      <td>2</td>\n",
       "      <td>675</td>\n",
       "      <td>No</td>\n",
       "      <td>1</td>\n",
       "    </tr>\n",
       "    <tr>\n",
       "      <th>4</th>\n",
       "      <td>24</td>\n",
       "      <td>male</td>\n",
       "      <td>Master</td>\n",
       "      <td>66135</td>\n",
       "      <td>1</td>\n",
       "      <td>RENT</td>\n",
       "      <td>35000</td>\n",
       "      <td>MEDICAL</td>\n",
       "      <td>14.27</td>\n",
       "      <td>0.53</td>\n",
       "      <td>4</td>\n",
       "      <td>586</td>\n",
       "      <td>No</td>\n",
       "      <td>1</td>\n",
       "    </tr>\n",
       "  </tbody>\n",
       "</table>\n",
       "</div>"
      ],
      "text/plain": [
       "   person_age person_gender person_education  person_income  person_emp_exp  \\\n",
       "0          22        female           Master          71948               0   \n",
       "1          21        female      High School          12282               0   \n",
       "2          25        female      High School          12438               3   \n",
       "3          23        female         Bachelor          79753               0   \n",
       "4          24          male           Master          66135               1   \n",
       "\n",
       "  person_home_ownership  loan_amnt loan_intent  loan_int_rate  \\\n",
       "0                  RENT      35000    PERSONAL          16.02   \n",
       "1                   OWN       1000   EDUCATION          11.14   \n",
       "2              MORTGAGE       5500     MEDICAL          12.87   \n",
       "3                  RENT      35000     MEDICAL          15.23   \n",
       "4                  RENT      35000     MEDICAL          14.27   \n",
       "\n",
       "   loan_percent_income  cb_person_cred_hist_length  credit_score  \\\n",
       "0                 0.49                           3           561   \n",
       "1                 0.08                           2           504   \n",
       "2                 0.44                           3           635   \n",
       "3                 0.44                           2           675   \n",
       "4                 0.53                           4           586   \n",
       "\n",
       "  previous_loan_defaults_on_file  loan_status  \n",
       "0                             No            1  \n",
       "1                            Yes            0  \n",
       "2                             No            1  \n",
       "3                             No            1  \n",
       "4                             No            1  "
      ]
     },
     "execution_count": 3,
     "metadata": {},
     "output_type": "execute_result"
    }
   ],
   "source": [
    "loan.head()"
   ]
  },
  {
   "cell_type": "code",
   "execution_count": 4,
   "id": "c29eac18-218e-42a7-a45b-8f40c9945e9a",
   "metadata": {},
   "outputs": [
    {
     "data": {
      "text/plain": [
       "(45000, 14)"
      ]
     },
     "execution_count": 4,
     "metadata": {},
     "output_type": "execute_result"
    }
   ],
   "source": [
    "loan.shape"
   ]
  },
  {
   "cell_type": "code",
   "execution_count": 6,
   "id": "bd4af101-bc4e-4497-8f06-bae7032c26ff",
   "metadata": {},
   "outputs": [
    {
     "name": "stdout",
     "output_type": "stream",
     "text": [
      "<class 'pandas.core.frame.DataFrame'>\n",
      "RangeIndex: 45000 entries, 0 to 44999\n",
      "Data columns (total 14 columns):\n",
      " #   Column                          Non-Null Count  Dtype  \n",
      "---  ------                          --------------  -----  \n",
      " 0   person_age                      45000 non-null  int64  \n",
      " 1   person_gender                   45000 non-null  object \n",
      " 2   person_education                45000 non-null  object \n",
      " 3   person_income                   45000 non-null  int64  \n",
      " 4   person_emp_exp                  45000 non-null  int64  \n",
      " 5   person_home_ownership           45000 non-null  object \n",
      " 6   loan_amnt                       45000 non-null  int64  \n",
      " 7   loan_intent                     45000 non-null  object \n",
      " 8   loan_int_rate                   45000 non-null  float64\n",
      " 9   loan_percent_income             45000 non-null  float64\n",
      " 10  cb_person_cred_hist_length      45000 non-null  int64  \n",
      " 11  credit_score                    45000 non-null  int64  \n",
      " 12  previous_loan_defaults_on_file  45000 non-null  object \n",
      " 13  loan_status                     45000 non-null  int64  \n",
      "dtypes: float64(2), int64(7), object(5)\n",
      "memory usage: 4.8+ MB\n"
     ]
    }
   ],
   "source": [
    "loan.info()"
   ]
  },
  {
   "cell_type": "code",
   "execution_count": 11,
   "id": "b6ab29ad-9f32-45f2-8147-c3f521f2f648",
   "metadata": {},
   "outputs": [
    {
     "data": {
      "text/plain": [
       "person_age                          int64\n",
       "person_gender                      object\n",
       "person_education                   object\n",
       "person_income                       int64\n",
       "person_emp_exp                      int64\n",
       "person_home_ownership              object\n",
       "loan_amnt                           int64\n",
       "loan_intent                        object\n",
       "loan_int_rate                     float64\n",
       "loan_percent_income               float64\n",
       "cb_person_cred_hist_length          int64\n",
       "credit_score                        int64\n",
       "previous_loan_defaults_on_file     object\n",
       "loan_status                         int64\n",
       "dtype: object"
      ]
     },
     "execution_count": 11,
     "metadata": {},
     "output_type": "execute_result"
    }
   ],
   "source": [
    "loan.dtypes"
   ]
  },
  {
   "cell_type": "markdown",
   "id": "163365e2-200a-4ac5-86fd-85038aa27d49",
   "metadata": {},
   "source": [
    "# cleaning Data"
   ]
  },
  {
   "cell_type": "code",
   "execution_count": 7,
   "id": "1ce7b075-fd38-4469-89d7-18cbe70d316d",
   "metadata": {},
   "outputs": [
    {
     "name": "stdout",
     "output_type": "stream",
     "text": [
      "person_age                        0\n",
      "person_gender                     0\n",
      "person_education                  0\n",
      "person_income                     0\n",
      "person_emp_exp                    0\n",
      "person_home_ownership             0\n",
      "loan_amnt                         0\n",
      "loan_intent                       0\n",
      "loan_int_rate                     0\n",
      "loan_percent_income               0\n",
      "cb_person_cred_hist_length        0\n",
      "credit_score                      0\n",
      "previous_loan_defaults_on_file    0\n",
      "loan_status                       0\n",
      "dtype: int64\n"
     ]
    }
   ],
   "source": [
    "print(loan.isnull().sum())"
   ]
  },
  {
   "cell_type": "code",
   "execution_count": 12,
   "id": "275f543f-3d30-4063-91cc-9084d5adafa1",
   "metadata": {},
   "outputs": [
    {
     "data": {
      "text/html": [
       "<div>\n",
       "<style scoped>\n",
       "    .dataframe tbody tr th:only-of-type {\n",
       "        vertical-align: middle;\n",
       "    }\n",
       "\n",
       "    .dataframe tbody tr th {\n",
       "        vertical-align: top;\n",
       "    }\n",
       "\n",
       "    .dataframe thead th {\n",
       "        text-align: right;\n",
       "    }\n",
       "</style>\n",
       "<table border=\"1\" class=\"dataframe\">\n",
       "  <thead>\n",
       "    <tr style=\"text-align: right;\">\n",
       "      <th></th>\n",
       "      <th>person_age</th>\n",
       "      <th>person_income</th>\n",
       "      <th>person_emp_exp</th>\n",
       "      <th>loan_amnt</th>\n",
       "      <th>loan_int_rate</th>\n",
       "      <th>loan_percent_income</th>\n",
       "      <th>cb_person_cred_hist_length</th>\n",
       "      <th>credit_score</th>\n",
       "      <th>loan_status</th>\n",
       "    </tr>\n",
       "  </thead>\n",
       "  <tbody>\n",
       "    <tr>\n",
       "      <th>count</th>\n",
       "      <td>45000.000000</td>\n",
       "      <td>4.500000e+04</td>\n",
       "      <td>45000.000000</td>\n",
       "      <td>45000.000000</td>\n",
       "      <td>45000.000000</td>\n",
       "      <td>45000.000000</td>\n",
       "      <td>45000.000000</td>\n",
       "      <td>45000.000000</td>\n",
       "      <td>45000.000000</td>\n",
       "    </tr>\n",
       "    <tr>\n",
       "      <th>mean</th>\n",
       "      <td>27.764178</td>\n",
       "      <td>8.031905e+04</td>\n",
       "      <td>5.410333</td>\n",
       "      <td>9583.157556</td>\n",
       "      <td>11.006606</td>\n",
       "      <td>0.139725</td>\n",
       "      <td>5.867489</td>\n",
       "      <td>632.608756</td>\n",
       "      <td>0.222222</td>\n",
       "    </tr>\n",
       "    <tr>\n",
       "      <th>std</th>\n",
       "      <td>6.045108</td>\n",
       "      <td>8.042250e+04</td>\n",
       "      <td>6.063532</td>\n",
       "      <td>6314.886691</td>\n",
       "      <td>2.978808</td>\n",
       "      <td>0.087212</td>\n",
       "      <td>3.879702</td>\n",
       "      <td>50.435865</td>\n",
       "      <td>0.415744</td>\n",
       "    </tr>\n",
       "    <tr>\n",
       "      <th>min</th>\n",
       "      <td>20.000000</td>\n",
       "      <td>8.000000e+03</td>\n",
       "      <td>0.000000</td>\n",
       "      <td>500.000000</td>\n",
       "      <td>5.420000</td>\n",
       "      <td>0.000000</td>\n",
       "      <td>2.000000</td>\n",
       "      <td>390.000000</td>\n",
       "      <td>0.000000</td>\n",
       "    </tr>\n",
       "    <tr>\n",
       "      <th>25%</th>\n",
       "      <td>24.000000</td>\n",
       "      <td>4.720400e+04</td>\n",
       "      <td>1.000000</td>\n",
       "      <td>5000.000000</td>\n",
       "      <td>8.590000</td>\n",
       "      <td>0.070000</td>\n",
       "      <td>3.000000</td>\n",
       "      <td>601.000000</td>\n",
       "      <td>0.000000</td>\n",
       "    </tr>\n",
       "    <tr>\n",
       "      <th>50%</th>\n",
       "      <td>26.000000</td>\n",
       "      <td>6.704800e+04</td>\n",
       "      <td>4.000000</td>\n",
       "      <td>8000.000000</td>\n",
       "      <td>11.010000</td>\n",
       "      <td>0.120000</td>\n",
       "      <td>4.000000</td>\n",
       "      <td>640.000000</td>\n",
       "      <td>0.000000</td>\n",
       "    </tr>\n",
       "    <tr>\n",
       "      <th>75%</th>\n",
       "      <td>30.000000</td>\n",
       "      <td>9.578925e+04</td>\n",
       "      <td>8.000000</td>\n",
       "      <td>12237.250000</td>\n",
       "      <td>12.990000</td>\n",
       "      <td>0.190000</td>\n",
       "      <td>8.000000</td>\n",
       "      <td>670.000000</td>\n",
       "      <td>0.000000</td>\n",
       "    </tr>\n",
       "    <tr>\n",
       "      <th>max</th>\n",
       "      <td>144.000000</td>\n",
       "      <td>7.200766e+06</td>\n",
       "      <td>125.000000</td>\n",
       "      <td>35000.000000</td>\n",
       "      <td>20.000000</td>\n",
       "      <td>0.660000</td>\n",
       "      <td>30.000000</td>\n",
       "      <td>850.000000</td>\n",
       "      <td>1.000000</td>\n",
       "    </tr>\n",
       "  </tbody>\n",
       "</table>\n",
       "</div>"
      ],
      "text/plain": [
       "         person_age  person_income  person_emp_exp     loan_amnt  \\\n",
       "count  45000.000000   4.500000e+04    45000.000000  45000.000000   \n",
       "mean      27.764178   8.031905e+04        5.410333   9583.157556   \n",
       "std        6.045108   8.042250e+04        6.063532   6314.886691   \n",
       "min       20.000000   8.000000e+03        0.000000    500.000000   \n",
       "25%       24.000000   4.720400e+04        1.000000   5000.000000   \n",
       "50%       26.000000   6.704800e+04        4.000000   8000.000000   \n",
       "75%       30.000000   9.578925e+04        8.000000  12237.250000   \n",
       "max      144.000000   7.200766e+06      125.000000  35000.000000   \n",
       "\n",
       "       loan_int_rate  loan_percent_income  cb_person_cred_hist_length  \\\n",
       "count   45000.000000         45000.000000                45000.000000   \n",
       "mean       11.006606             0.139725                    5.867489   \n",
       "std         2.978808             0.087212                    3.879702   \n",
       "min         5.420000             0.000000                    2.000000   \n",
       "25%         8.590000             0.070000                    3.000000   \n",
       "50%        11.010000             0.120000                    4.000000   \n",
       "75%        12.990000             0.190000                    8.000000   \n",
       "max        20.000000             0.660000                   30.000000   \n",
       "\n",
       "       credit_score   loan_status  \n",
       "count  45000.000000  45000.000000  \n",
       "mean     632.608756      0.222222  \n",
       "std       50.435865      0.415744  \n",
       "min      390.000000      0.000000  \n",
       "25%      601.000000      0.000000  \n",
       "50%      640.000000      0.000000  \n",
       "75%      670.000000      0.000000  \n",
       "max      850.000000      1.000000  "
      ]
     },
     "execution_count": 12,
     "metadata": {},
     "output_type": "execute_result"
    }
   ],
   "source": [
    "loan.describe()"
   ]
  },
  {
   "cell_type": "code",
   "execution_count": null,
   "id": "120f17ea-c8f5-4e2b-bb18-d48058f86f07",
   "metadata": {},
   "outputs": [],
   "source": []
  },
  {
   "cell_type": "markdown",
   "id": "d3895133-9569-437b-80e1-43f2b5835b54",
   "metadata": {},
   "source": [
    "# Outlier Detection"
   ]
  },
  {
   "cell_type": "code",
   "execution_count": 22,
   "id": "b18d0a4b-f231-41c2-bc53-829d588e7881",
   "metadata": {},
   "outputs": [
    {
     "name": "stdout",
     "output_type": "stream",
     "text": [
      "Numerical Columns: ['person_age', 'person_income', 'person_emp_exp', 'loan_amnt', 'loan_int_rate', 'loan_percent_income', 'cb_person_cred_hist_length', 'credit_score', 'loan_status']\n"
     ]
    }
   ],
   "source": [
    "numerical_columns = loan.select_dtypes(include=['float64', 'int64']).columns.tolist()\n",
    "print(\"Numerical Columns:\", numerical_columns)"
   ]
  },
  {
   "cell_type": "code",
   "execution_count": 30,
   "id": "3581a73e-a9d0-4746-b176-03fb83dc1aea",
   "metadata": {},
   "outputs": [],
   "source": [
    "def detect_outliers_iqr(data, column):\n",
    "    Q1 = data[column].quantile(0.25)  # 25th percentile (Q1)\n",
    "    Q3 = data[column].quantile(0.75)  # 75th percentile (Q3)\n",
    "    IQR = Q3 - Q1  # Interquartile range\n",
    "    lower_bound = Q1 - 1.5 * IQR\n",
    "    upper_bound = Q3 + 1.5 * IQR\n",
    "    outliers = data[(data[column] < lower_bound) | (data[column] > upper_bound)]\n",
    "    return outliers, lower_bound, upper_bound\n"
   ]
  },
  {
   "cell_type": "code",
   "execution_count": 32,
   "id": "687419e4-74d3-47a1-932f-8afea8f6237b",
   "metadata": {},
   "outputs": [
    {
     "name": "stdout",
     "output_type": "stream",
     "text": [
      "\n",
      "Column: person_age\n",
      "Lower Bound: 15.0\n",
      "Upper Bound: 39.0\n",
      "Number of Outliers: 2188\n",
      "\n",
      "Column: person_income\n",
      "Lower Bound: -25673.875\n",
      "Upper Bound: 168667.125\n",
      "Number of Outliers: 2218\n",
      "\n",
      "Column: person_emp_exp\n",
      "Lower Bound: -9.5\n",
      "Upper Bound: 18.5\n",
      "Number of Outliers: 1724\n",
      "\n",
      "Column: loan_amnt\n",
      "Lower Bound: -5855.875\n",
      "Upper Bound: 23093.125\n",
      "Number of Outliers: 2348\n",
      "\n",
      "Column: loan_int_rate\n",
      "Lower Bound: 1.9899999999999993\n",
      "Upper Bound: 19.59\n",
      "Number of Outliers: 124\n",
      "\n",
      "Column: loan_percent_income\n",
      "Lower Bound: -0.10999999999999999\n",
      "Upper Bound: 0.37\n",
      "Number of Outliers: 744\n",
      "\n",
      "Column: cb_person_cred_hist_length\n",
      "Lower Bound: -4.5\n",
      "Upper Bound: 15.5\n",
      "Number of Outliers: 1366\n",
      "\n",
      "Column: credit_score\n",
      "Lower Bound: 497.5\n",
      "Upper Bound: 773.5\n",
      "Number of Outliers: 467\n",
      "\n",
      "Column: loan_status\n",
      "Lower Bound: 0.0\n",
      "Upper Bound: 0.0\n",
      "Number of Outliers: 10000\n"
     ]
    }
   ],
   "source": [
    "outliers_info = {}\n",
    "for column in numerical_columns:\n",
    "    outliers, lower, upper = detect_outliers_iqr(loan, column)\n",
    "    outliers_info[column] = {\n",
    "        \"Number of Outliers\": len(outliers),\n",
    "        \"Lower Bound\": lower,\n",
    "        \"Upper Bound\": upper,\n",
    "    }\n",
    "    print(f\"\\nColumn: {column}\")\n",
    "    print(f\"Lower Bound: {lower}\")\n",
    "    print(f\"Upper Bound: {upper}\")\n",
    "    print(f\"Number of Outliers: {len(outliers)}\")"
   ]
  },
  {
   "cell_type": "code",
   "execution_count": 36,
   "id": "914da9ea-5570-4ee7-b0f2-a7ee7dbb8d0c",
   "metadata": {},
   "outputs": [
    {
     "name": "stdout",
     "output_type": "stream",
     "text": [
      "\n",
      "Shape of Dataset Before Removing Outliers: (45000, 23)\n",
      "Shape of Dataset After Removing Outliers: (29562, 23)\n"
     ]
    }
   ],
   "source": [
    "loan_data_no_outliers = loan.copy()\n",
    "for column in numerical_columns:\n",
    "    _, lower, upper = detect_outliers_iqr(loan, column)\n",
    "    loan_data_no_outliers = loan_data_no_outliers[\n",
    "        (loan_data_no_outliers[column] >= lower) & (loan_data_no_outliers[column] <= upper)\n",
    "    ]\n",
    "\n",
    "print(\"\\nShape of Dataset Before Removing Outliers:\", loan.shape)\n",
    "print(\"Shape of Dataset After Removing Outliers:\", loan_data_no_outliers.shape)\n"
   ]
  },
  {
   "cell_type": "code",
   "execution_count": null,
   "id": "b8071cb8-db2e-4bc1-b3db-19fe35c8b48c",
   "metadata": {},
   "outputs": [],
   "source": []
  },
  {
   "cell_type": "markdown",
   "id": "1ef7a3c3-f138-4cca-932f-31e28aa566b8",
   "metadata": {},
   "source": [
    "# cap outliers"
   ]
  },
  {
   "cell_type": "code",
   "execution_count": 38,
   "id": "b1f4d9b1-8598-4fef-927d-b3b6b5d4ed95",
   "metadata": {},
   "outputs": [],
   "source": [
    "import numpy as np\n",
    "loan_data_capped = loan.copy()\n",
    "for column in numerical_columns:\n",
    "    _, lower, upper = detect_outliers_iqr(loan_data_capped, column)\n",
    "    loan_data_capped[column] = np.where(\n",
    "        loan_data_capped[column] < lower, lower,\n",
    "        np.where(loan_data_capped[column] > upper, upper, loan_data_capped[column])\n",
    "    )"
   ]
  },
  {
   "cell_type": "code",
   "execution_count": 41,
   "id": "3c4f7de7-9f33-4388-990b-8887b35cb57d",
   "metadata": {},
   "outputs": [
    {
     "name": "stdout",
     "output_type": "stream",
     "text": [
      "\n",
      "Final Cleaned Dataset:\n",
      "   person_age person_gender person_education  person_income  person_emp_exp  \\\n",
      "0        22.0        female           Master        71948.0             0.0   \n",
      "1        21.0        female      High School        12282.0             0.0   \n",
      "2        25.0        female      High School        12438.0             3.0   \n",
      "3        23.0        female         Bachelor        79753.0             0.0   \n",
      "4        24.0          male           Master        66135.0             1.0   \n",
      "\n",
      "  person_home_ownership  loan_amnt loan_intent  loan_int_rate  \\\n",
      "0                  RENT  23093.125    PERSONAL          16.02   \n",
      "1                   OWN   1000.000   EDUCATION          11.14   \n",
      "2              MORTGAGE   5500.000     MEDICAL          12.87   \n",
      "3                  RENT  23093.125     MEDICAL          15.23   \n",
      "4                  RENT  23093.125     MEDICAL          14.27   \n",
      "\n",
      "   loan_percent_income  ...  loan_status  person_age_zscore  \\\n",
      "0                 0.37  ...          0.0          -0.953538   \n",
      "1                 0.08  ...          0.0          -1.118963   \n",
      "2                 0.37  ...          0.0          -0.457264   \n",
      "3                 0.37  ...          0.0          -0.788113   \n",
      "4                 0.37  ...          0.0          -0.622689   \n",
      "\n",
      "  person_income_zscore  person_emp_exp_zscore  loan_amnt_zscore  \\\n",
      "0            -0.104090              -0.892284          4.024953   \n",
      "1            -0.846005              -0.892284         -1.359209   \n",
      "2            -0.844065              -0.397517         -0.646600   \n",
      "3            -0.007039              -0.892284          4.024953   \n",
      "4            -0.176371              -0.727362          4.024953   \n",
      "\n",
      "   loan_int_rate_zscore  loan_percent_income_zscore  \\\n",
      "0              1.683039                    4.016394   \n",
      "1              0.044782                   -0.684829   \n",
      "2              0.625557                    3.443074   \n",
      "3              1.417829                    3.443074   \n",
      "4              1.095549                    4.475050   \n",
      "\n",
      "   cb_person_cred_hist_length_zscore  credit_score_zscore  loan_status_zscore  \n",
      "0                          -0.739109            -1.419814            1.870829  \n",
      "1                          -0.996863            -2.549975           -0.534522  \n",
      "2                          -0.739109             0.047412            1.870829  \n",
      "3                          -0.996863             0.840507            1.870829  \n",
      "4                          -0.481354            -0.924130            1.870829  \n",
      "\n",
      "[5 rows x 23 columns]\n"
     ]
    }
   ],
   "source": [
    "loan_cleaned = loan_data_capped\n",
    "\n",
    "print(\"\\nFinal Cleaned Dataset:\")\n",
    "print(loan_cleaned.head())\n",
    "\n"
   ]
  },
  {
   "cell_type": "code",
   "execution_count": null,
   "id": "1fc7a23b-0970-4ebb-8d38-5ccecdb1aaf2",
   "metadata": {},
   "outputs": [],
   "source": []
  },
  {
   "cell_type": "markdown",
   "id": "87c1861d-2906-441e-a1f5-973643dc238e",
   "metadata": {},
   "source": [
    "Save cleaned data to a new CSV file"
   ]
  },
  {
   "cell_type": "code",
   "execution_count": 42,
   "id": "1f3c8dfd-a597-404a-9cec-9f73eee389da",
   "metadata": {},
   "outputs": [
    {
     "name": "stdout",
     "output_type": "stream",
     "text": [
      "\n",
      "Cleaned dataset saved as 'loan_cleaned.csv'.\n"
     ]
    }
   ],
   "source": [
    "\n",
    "loan_cleaned.to_csv('loan_cleaned.csv', index=False)\n",
    "print(\"\\nCleaned dataset saved as 'loan_cleaned.csv'.\")"
   ]
  },
  {
   "cell_type": "code",
   "execution_count": 43,
   "id": "75384926-b3cc-4ea5-83a7-b25d88df2011",
   "metadata": {},
   "outputs": [
    {
     "data": {
      "text/plain": [
       "(45000, 23)"
      ]
     },
     "execution_count": 43,
     "metadata": {},
     "output_type": "execute_result"
    }
   ],
   "source": [
    "loan_cleaned.shape"
   ]
  },
  {
   "cell_type": "code",
   "execution_count": null,
   "id": "f7b5cb22-df03-4f37-9d43-e22248aa869e",
   "metadata": {},
   "outputs": [],
   "source": []
  }
 ],
 "metadata": {
  "kernelspec": {
   "display_name": "Python 3 (ipykernel)",
   "language": "python",
   "name": "python3"
  },
  "language_info": {
   "codemirror_mode": {
    "name": "ipython",
    "version": 3
   },
   "file_extension": ".py",
   "mimetype": "text/x-python",
   "name": "python",
   "nbconvert_exporter": "python",
   "pygments_lexer": "ipython3",
   "version": "3.12.5"
  }
 },
 "nbformat": 4,
 "nbformat_minor": 5
}
